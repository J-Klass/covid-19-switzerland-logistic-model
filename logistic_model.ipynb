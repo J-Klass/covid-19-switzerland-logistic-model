{
 "cells": [
  {
   "cell_type": "markdown",
   "metadata": {},
   "source": [
    "# Covid-19 Switzerland - Logistic model"
   ]
  },
  {
   "cell_type": "code",
   "execution_count": 2,
   "metadata": {},
   "outputs": [
    {
     "data": {
      "application/javascript": [
       "\n",
       "            setTimeout(function() {\n",
       "                var nbb_cell_id = 2;\n",
       "                var nbb_unformatted_code = \"%load_ext nb_black\\n%matplotlib inline\";\n",
       "                var nbb_formatted_code = \"%load_ext nb_black\\n%matplotlib inline\";\n",
       "                var nbb_cells = Jupyter.notebook.get_cells();\n",
       "                for (var i = 0; i < nbb_cells.length; ++i) {\n",
       "                    if (nbb_cells[i].input_prompt_number == nbb_cell_id) {\n",
       "                        if (nbb_cells[i].get_text() == nbb_unformatted_code) {\n",
       "                             nbb_cells[i].set_text(nbb_formatted_code);\n",
       "                        }\n",
       "                        break;\n",
       "                    }\n",
       "                }\n",
       "            }, 500);\n",
       "            "
      ],
      "text/plain": [
       "<IPython.core.display.Javascript object>"
      ]
     },
     "metadata": {},
     "output_type": "display_data"
    }
   ],
   "source": [
    "%load_ext nb_black\n",
    "%matplotlib inline"
   ]
  },
  {
   "cell_type": "code",
   "execution_count": 3,
   "metadata": {},
   "outputs": [
    {
     "data": {
      "application/javascript": [
       "\n",
       "            setTimeout(function() {\n",
       "                var nbb_cell_id = 3;\n",
       "                var nbb_unformatted_code = \"# Import\\nimport io\\nfrom datetime import date, datetime, timedelta\\n\\nimport matplotlib.pyplot as plt\\nimport numpy as np\\nimport pandas as pd\\nimport requests\\nfrom scipy.optimize import curve_fit, fsolve\";\n",
       "                var nbb_formatted_code = \"# Import\\nimport io\\nfrom datetime import date, datetime, timedelta\\n\\nimport matplotlib.pyplot as plt\\nimport numpy as np\\nimport pandas as pd\\nimport requests\\nfrom scipy.optimize import curve_fit, fsolve\";\n",
       "                var nbb_cells = Jupyter.notebook.get_cells();\n",
       "                for (var i = 0; i < nbb_cells.length; ++i) {\n",
       "                    if (nbb_cells[i].input_prompt_number == nbb_cell_id) {\n",
       "                        if (nbb_cells[i].get_text() == nbb_unformatted_code) {\n",
       "                             nbb_cells[i].set_text(nbb_formatted_code);\n",
       "                        }\n",
       "                        break;\n",
       "                    }\n",
       "                }\n",
       "            }, 500);\n",
       "            "
      ],
      "text/plain": [
       "<IPython.core.display.Javascript object>"
      ]
     },
     "metadata": {},
     "output_type": "display_data"
    }
   ],
   "source": [
    "# Import\n",
    "import io\n",
    "from datetime import date, datetime, timedelta\n",
    "\n",
    "import matplotlib.pyplot as plt\n",
    "import numpy as np\n",
    "import pandas as pd\n",
    "import requests\n",
    "from scipy.optimize import curve_fit, fsolve"
   ]
  },
  {
   "cell_type": "markdown",
   "metadata": {},
   "source": [
    "## Data"
   ]
  },
  {
   "cell_type": "code",
   "execution_count": 4,
   "metadata": {},
   "outputs": [
    {
     "data": {
      "application/javascript": [
       "\n",
       "            setTimeout(function() {\n",
       "                var nbb_cell_id = 4;\n",
       "                var nbb_unformatted_code = \"# Loading the data from https://github.com/daenuprobst/covid19-cases-switzerland\\nurl = \\\"https://raw.githubusercontent.com/daenuprobst/covid19-cases-switzerland/master/covid_19_cases_switzerland_standard_format.csv\\\"\\ns = requests.get(url).content\\ndf_cases = pd.read_csv(io.StringIO(s.decode(\\\"utf-8\\\")), parse_dates=True)\\n# Transform date\\ndf_cases.index = pd.to_datetime(df_cases[\\\"date\\\"], format=\\\"%Y-%m-%d %H:%M:%S\\\")\\ndel df_cases[\\\"date\\\"]\";\n",
       "                var nbb_formatted_code = \"# Loading the data from https://github.com/daenuprobst/covid19-cases-switzerland\\nurl = \\\"https://raw.githubusercontent.com/daenuprobst/covid19-cases-switzerland/master/covid_19_cases_switzerland_standard_format.csv\\\"\\ns = requests.get(url).content\\ndf_cases = pd.read_csv(io.StringIO(s.decode(\\\"utf-8\\\")), parse_dates=True)\\n# Transform date\\ndf_cases.index = pd.to_datetime(df_cases[\\\"date\\\"], format=\\\"%Y-%m-%d %H:%M:%S\\\")\\ndel df_cases[\\\"date\\\"]\";\n",
       "                var nbb_cells = Jupyter.notebook.get_cells();\n",
       "                for (var i = 0; i < nbb_cells.length; ++i) {\n",
       "                    if (nbb_cells[i].input_prompt_number == nbb_cell_id) {\n",
       "                        if (nbb_cells[i].get_text() == nbb_unformatted_code) {\n",
       "                             nbb_cells[i].set_text(nbb_formatted_code);\n",
       "                        }\n",
       "                        break;\n",
       "                    }\n",
       "                }\n",
       "            }, 500);\n",
       "            "
      ],
      "text/plain": [
       "<IPython.core.display.Javascript object>"
      ]
     },
     "metadata": {},
     "output_type": "display_data"
    }
   ],
   "source": [
    "# Loading the data from https://github.com/daenuprobst/covid19-cases-switzerland\n",
    "url = \"https://raw.githubusercontent.com/daenuprobst/covid19-cases-switzerland/master/covid_19_cases_switzerland_standard_format.csv\"\n",
    "s = requests.get(url).content\n",
    "df_cases = pd.read_csv(io.StringIO(s.decode(\"utf-8\")), parse_dates=True)\n",
    "# Transform date\n",
    "df_cases.index = pd.to_datetime(df_cases[\"date\"], format=\"%Y-%m-%d %H:%M:%S\")\n",
    "del df_cases[\"date\"]"
   ]
  },
  {
   "cell_type": "code",
   "execution_count": 5,
   "metadata": {
    "scrolled": true
   },
   "outputs": [
    {
     "data": {
      "text/html": [
       "<div>\n",
       "<style scoped>\n",
       "    .dataframe tbody tr th:only-of-type {\n",
       "        vertical-align: middle;\n",
       "    }\n",
       "\n",
       "    .dataframe tbody tr th {\n",
       "        vertical-align: top;\n",
       "    }\n",
       "\n",
       "    .dataframe thead th {\n",
       "        text-align: right;\n",
       "    }\n",
       "</style>\n",
       "<table border=\"1\" class=\"dataframe\">\n",
       "  <thead>\n",
       "    <tr style=\"text-align: right;\">\n",
       "      <th></th>\n",
       "      <th>country</th>\n",
       "      <th>abbreviation_canton</th>\n",
       "      <th>name_canton</th>\n",
       "      <th>lat</th>\n",
       "      <th>long</th>\n",
       "      <th>hospitalized_with_symptoms</th>\n",
       "      <th>intensive_care</th>\n",
       "      <th>total_hospitalized</th>\n",
       "      <th>home_confinment</th>\n",
       "      <th>total_currently_positive_cases</th>\n",
       "      <th>new_positive_cases</th>\n",
       "      <th>recovered</th>\n",
       "      <th>deaths</th>\n",
       "      <th>total_positive_cases</th>\n",
       "      <th>tests_performed</th>\n",
       "    </tr>\n",
       "    <tr>\n",
       "      <th>date</th>\n",
       "      <th></th>\n",
       "      <th></th>\n",
       "      <th></th>\n",
       "      <th></th>\n",
       "      <th></th>\n",
       "      <th></th>\n",
       "      <th></th>\n",
       "      <th></th>\n",
       "      <th></th>\n",
       "      <th></th>\n",
       "      <th></th>\n",
       "      <th></th>\n",
       "      <th></th>\n",
       "      <th></th>\n",
       "      <th></th>\n",
       "    </tr>\n",
       "  </thead>\n",
       "  <tbody>\n",
       "    <tr>\n",
       "      <th>2020-03-06</th>\n",
       "      <td>Switzerland</td>\n",
       "      <td>AG</td>\n",
       "      <td>Aargau</td>\n",
       "      <td>47.449406</td>\n",
       "      <td>8.327495</td>\n",
       "      <td>NaN</td>\n",
       "      <td>NaN</td>\n",
       "      <td>NaN</td>\n",
       "      <td>NaN</td>\n",
       "      <td>10.0</td>\n",
       "      <td>0.0</td>\n",
       "      <td>NaN</td>\n",
       "      <td>NaN</td>\n",
       "      <td>NaN</td>\n",
       "      <td>NaN</td>\n",
       "    </tr>\n",
       "    <tr>\n",
       "      <th>2020-03-06</th>\n",
       "      <td>Switzerland</td>\n",
       "      <td>AI</td>\n",
       "      <td>Appenzell Innerrhoden</td>\n",
       "      <td>47.328414</td>\n",
       "      <td>9.409647</td>\n",
       "      <td>NaN</td>\n",
       "      <td>NaN</td>\n",
       "      <td>NaN</td>\n",
       "      <td>NaN</td>\n",
       "      <td>0.0</td>\n",
       "      <td>0.0</td>\n",
       "      <td>NaN</td>\n",
       "      <td>NaN</td>\n",
       "      <td>NaN</td>\n",
       "      <td>NaN</td>\n",
       "    </tr>\n",
       "    <tr>\n",
       "      <th>2020-03-06</th>\n",
       "      <td>Switzerland</td>\n",
       "      <td>AR</td>\n",
       "      <td>Appenzell Ausserrhoden</td>\n",
       "      <td>47.382710</td>\n",
       "      <td>9.271860</td>\n",
       "      <td>NaN</td>\n",
       "      <td>NaN</td>\n",
       "      <td>NaN</td>\n",
       "      <td>NaN</td>\n",
       "      <td>1.0</td>\n",
       "      <td>0.0</td>\n",
       "      <td>NaN</td>\n",
       "      <td>NaN</td>\n",
       "      <td>NaN</td>\n",
       "      <td>NaN</td>\n",
       "    </tr>\n",
       "    <tr>\n",
       "      <th>2020-03-06</th>\n",
       "      <td>Switzerland</td>\n",
       "      <td>BE</td>\n",
       "      <td>Bern</td>\n",
       "      <td>46.916667</td>\n",
       "      <td>7.466667</td>\n",
       "      <td>NaN</td>\n",
       "      <td>NaN</td>\n",
       "      <td>NaN</td>\n",
       "      <td>NaN</td>\n",
       "      <td>20.0</td>\n",
       "      <td>0.0</td>\n",
       "      <td>NaN</td>\n",
       "      <td>0.0</td>\n",
       "      <td>NaN</td>\n",
       "      <td>NaN</td>\n",
       "    </tr>\n",
       "    <tr>\n",
       "      <th>2020-03-06</th>\n",
       "      <td>Switzerland</td>\n",
       "      <td>BL</td>\n",
       "      <td>Baselland</td>\n",
       "      <td>47.482779</td>\n",
       "      <td>7.742975</td>\n",
       "      <td>NaN</td>\n",
       "      <td>NaN</td>\n",
       "      <td>NaN</td>\n",
       "      <td>NaN</td>\n",
       "      <td>9.0</td>\n",
       "      <td>0.0</td>\n",
       "      <td>NaN</td>\n",
       "      <td>NaN</td>\n",
       "      <td>NaN</td>\n",
       "      <td>NaN</td>\n",
       "    </tr>\n",
       "  </tbody>\n",
       "</table>\n",
       "</div>"
      ],
      "text/plain": [
       "                country abbreviation_canton             name_canton  \\\n",
       "date                                                                  \n",
       "2020-03-06  Switzerland                  AG                  Aargau   \n",
       "2020-03-06  Switzerland                  AI   Appenzell Innerrhoden   \n",
       "2020-03-06  Switzerland                  AR  Appenzell Ausserrhoden   \n",
       "2020-03-06  Switzerland                  BE                    Bern   \n",
       "2020-03-06  Switzerland                  BL               Baselland   \n",
       "\n",
       "                  lat      long  hospitalized_with_symptoms  intensive_care  \\\n",
       "date                                                                          \n",
       "2020-03-06  47.449406  8.327495                         NaN             NaN   \n",
       "2020-03-06  47.328414  9.409647                         NaN             NaN   \n",
       "2020-03-06  47.382710  9.271860                         NaN             NaN   \n",
       "2020-03-06  46.916667  7.466667                         NaN             NaN   \n",
       "2020-03-06  47.482779  7.742975                         NaN             NaN   \n",
       "\n",
       "            total_hospitalized  home_confinment  \\\n",
       "date                                              \n",
       "2020-03-06                 NaN              NaN   \n",
       "2020-03-06                 NaN              NaN   \n",
       "2020-03-06                 NaN              NaN   \n",
       "2020-03-06                 NaN              NaN   \n",
       "2020-03-06                 NaN              NaN   \n",
       "\n",
       "            total_currently_positive_cases  new_positive_cases  recovered  \\\n",
       "date                                                                        \n",
       "2020-03-06                            10.0                 0.0        NaN   \n",
       "2020-03-06                             0.0                 0.0        NaN   \n",
       "2020-03-06                             1.0                 0.0        NaN   \n",
       "2020-03-06                            20.0                 0.0        NaN   \n",
       "2020-03-06                             9.0                 0.0        NaN   \n",
       "\n",
       "            deaths  total_positive_cases  tests_performed  \n",
       "date                                                       \n",
       "2020-03-06     NaN                   NaN              NaN  \n",
       "2020-03-06     NaN                   NaN              NaN  \n",
       "2020-03-06     NaN                   NaN              NaN  \n",
       "2020-03-06     0.0                   NaN              NaN  \n",
       "2020-03-06     NaN                   NaN              NaN  "
      ]
     },
     "execution_count": 5,
     "metadata": {},
     "output_type": "execute_result"
    },
    {
     "data": {
      "application/javascript": [
       "\n",
       "            setTimeout(function() {\n",
       "                var nbb_cell_id = 5;\n",
       "                var nbb_unformatted_code = \"df_cases.head()\";\n",
       "                var nbb_formatted_code = \"df_cases.head()\";\n",
       "                var nbb_cells = Jupyter.notebook.get_cells();\n",
       "                for (var i = 0; i < nbb_cells.length; ++i) {\n",
       "                    if (nbb_cells[i].input_prompt_number == nbb_cell_id) {\n",
       "                        if (nbb_cells[i].get_text() == nbb_unformatted_code) {\n",
       "                             nbb_cells[i].set_text(nbb_formatted_code);\n",
       "                        }\n",
       "                        break;\n",
       "                    }\n",
       "                }\n",
       "            }, 500);\n",
       "            "
      ],
      "text/plain": [
       "<IPython.core.display.Javascript object>"
      ]
     },
     "metadata": {},
     "output_type": "display_data"
    }
   ],
   "source": [
    "df_cases.head()"
   ]
  },
  {
   "cell_type": "markdown",
   "metadata": {},
   "source": [
    "## Total positive cases"
   ]
  },
  {
   "cell_type": "code",
   "execution_count": 6,
   "metadata": {},
   "outputs": [
    {
     "data": {
      "text/html": [
       "<div>\n",
       "<style scoped>\n",
       "    .dataframe tbody tr th:only-of-type {\n",
       "        vertical-align: middle;\n",
       "    }\n",
       "\n",
       "    .dataframe tbody tr th {\n",
       "        vertical-align: top;\n",
       "    }\n",
       "\n",
       "    .dataframe thead th {\n",
       "        text-align: right;\n",
       "    }\n",
       "</style>\n",
       "<table border=\"1\" class=\"dataframe\">\n",
       "  <thead>\n",
       "    <tr style=\"text-align: right;\">\n",
       "      <th></th>\n",
       "      <th>total_currently_positive_cases</th>\n",
       "    </tr>\n",
       "    <tr>\n",
       "      <th>date</th>\n",
       "      <th></th>\n",
       "    </tr>\n",
       "  </thead>\n",
       "  <tbody>\n",
       "    <tr>\n",
       "      <th>2020-03-06</th>\n",
       "      <td>208.0</td>\n",
       "    </tr>\n",
       "    <tr>\n",
       "      <th>2020-03-07</th>\n",
       "      <td>263.0</td>\n",
       "    </tr>\n",
       "    <tr>\n",
       "      <th>2020-03-08</th>\n",
       "      <td>328.0</td>\n",
       "    </tr>\n",
       "    <tr>\n",
       "      <th>2020-03-09</th>\n",
       "      <td>376.0</td>\n",
       "    </tr>\n",
       "    <tr>\n",
       "      <th>2020-03-10</th>\n",
       "      <td>505.0</td>\n",
       "    </tr>\n",
       "  </tbody>\n",
       "</table>\n",
       "</div>"
      ],
      "text/plain": [
       "            total_currently_positive_cases\n",
       "date                                      \n",
       "2020-03-06                           208.0\n",
       "2020-03-07                           263.0\n",
       "2020-03-08                           328.0\n",
       "2020-03-09                           376.0\n",
       "2020-03-10                           505.0"
      ]
     },
     "execution_count": 6,
     "metadata": {},
     "output_type": "execute_result"
    },
    {
     "data": {
      "application/javascript": [
       "\n",
       "            setTimeout(function() {\n",
       "                var nbb_cell_id = 6;\n",
       "                var nbb_unformatted_code = \"# Interpolating missing values\\ncantons = list(df_cases.abbreviation_canton.unique())\\ncanton_dfs = []\\nfor canton in cantons:\\n    df_cases_canton = df_cases.loc[df_cases[\\\"abbreviation_canton\\\"] == canton]\\n    df_cases_canton = df_cases_canton[[\\\"total_currently_positive_cases\\\"]]\\n    df_cases_canton[\\\"total_currently_positive_cases\\\"] = df_cases_canton[\\n        \\\"total_currently_positive_cases\\\"\\n    ].interpolate()\\n    canton_dfs.append(df_cases_canton)\\n# Groub by date\\ndf_total_cases = pd.concat(canton_dfs)\\ndf_total_cases = df_total_cases.groupby([\\\"date\\\"]).sum()\\ndf_total_cases.head()\";\n",
       "                var nbb_formatted_code = \"# Interpolating missing values\\ncantons = list(df_cases.abbreviation_canton.unique())\\ncanton_dfs = []\\nfor canton in cantons:\\n    df_cases_canton = df_cases.loc[df_cases[\\\"abbreviation_canton\\\"] == canton]\\n    df_cases_canton = df_cases_canton[[\\\"total_currently_positive_cases\\\"]]\\n    df_cases_canton[\\\"total_currently_positive_cases\\\"] = df_cases_canton[\\n        \\\"total_currently_positive_cases\\\"\\n    ].interpolate()\\n    canton_dfs.append(df_cases_canton)\\n# Groub by date\\ndf_total_cases = pd.concat(canton_dfs)\\ndf_total_cases = df_total_cases.groupby([\\\"date\\\"]).sum()\\ndf_total_cases.head()\";\n",
       "                var nbb_cells = Jupyter.notebook.get_cells();\n",
       "                for (var i = 0; i < nbb_cells.length; ++i) {\n",
       "                    if (nbb_cells[i].input_prompt_number == nbb_cell_id) {\n",
       "                        if (nbb_cells[i].get_text() == nbb_unformatted_code) {\n",
       "                             nbb_cells[i].set_text(nbb_formatted_code);\n",
       "                        }\n",
       "                        break;\n",
       "                    }\n",
       "                }\n",
       "            }, 500);\n",
       "            "
      ],
      "text/plain": [
       "<IPython.core.display.Javascript object>"
      ]
     },
     "metadata": {},
     "output_type": "display_data"
    }
   ],
   "source": [
    "# Interpolating missing values\n",
    "cantons = list(df_cases.abbreviation_canton.unique())\n",
    "canton_dfs = []\n",
    "for canton in cantons:\n",
    "    df_cases_canton = df_cases.loc[df_cases[\"abbreviation_canton\"] == canton]\n",
    "    df_cases_canton = df_cases_canton[[\"total_currently_positive_cases\"]]\n",
    "    df_cases_canton[\"total_currently_positive_cases\"] = df_cases_canton[\n",
    "        \"total_currently_positive_cases\"\n",
    "    ].interpolate()\n",
    "    canton_dfs.append(df_cases_canton)\n",
    "# Groub by date\n",
    "df_total_cases = pd.concat(canton_dfs)\n",
    "df_total_cases = df_total_cases.groupby([\"date\"]).sum()\n",
    "df_total_cases.head()"
   ]
  },
  {
   "cell_type": "code",
   "execution_count": 8,
   "metadata": {},
   "outputs": [
    {
     "data": {
      "image/png": "[encoded data removed]",
      "text/plain": [
       "<Figure size 432x288 with 1 Axes>"
      ]
     },
     "metadata": {
      "needs_background": "light"
     },
     "output_type": "display_data"
    },
    {
     "data": {
      "application/javascript": [
       "\n",
       "            setTimeout(function() {\n",
       "                var nbb_cell_id = 8;\n",
       "                var nbb_unformatted_code = \"# Plot\\ndf_total_cases[\\\"total_currently_positive_cases\\\"].plot();\";\n",
       "                var nbb_formatted_code = \"# Plot\\ndf_total_cases[\\\"total_currently_positive_cases\\\"].plot()\";\n",
       "                var nbb_cells = Jupyter.notebook.get_cells();\n",
       "                for (var i = 0; i < nbb_cells.length; ++i) {\n",
       "                    if (nbb_cells[i].input_prompt_number == nbb_cell_id) {\n",
       "                        if (nbb_cells[i].get_text() == nbb_unformatted_code) {\n",
       "                             nbb_cells[i].set_text(nbb_formatted_code);\n",
       "                        }\n",
       "                        break;\n",
       "                    }\n",
       "                }\n",
       "            }, 500);\n",
       "            "
      ],
      "text/plain": [
       "<IPython.core.display.Javascript object>"
      ]
     },
     "metadata": {},
     "output_type": "display_data"
    }
   ],
   "source": [
    "# Plot\n",
    "df_total_cases[\"total_currently_positive_cases\"].plot()"
   ]
  },
  {
   "cell_type": "markdown",
   "metadata": {},
   "source": [
    "## Logistic model "
   ]
  },
  {
   "cell_type": "code",
   "execution_count": 9,
   "metadata": {},
   "outputs": [
    {
     "data": {
      "application/javascript": [
       "\n",
       "            setTimeout(function() {\n",
       "                var nbb_cell_id = 9;\n",
       "                var nbb_unformatted_code = \"# Transform date to day of year for fitting\\ndf_total_cases.index = df_total_cases.index.dayofyear\";\n",
       "                var nbb_formatted_code = \"# Transform date to day of year for fitting\\ndf_total_cases.index = df_total_cases.index.dayofyear\";\n",
       "                var nbb_cells = Jupyter.notebook.get_cells();\n",
       "                for (var i = 0; i < nbb_cells.length; ++i) {\n",
       "                    if (nbb_cells[i].input_prompt_number == nbb_cell_id) {\n",
       "                        if (nbb_cells[i].get_text() == nbb_unformatted_code) {\n",
       "                             nbb_cells[i].set_text(nbb_formatted_code);\n",
       "                        }\n",
       "                        break;\n",
       "                    }\n",
       "                }\n",
       "            }, 500);\n",
       "            "
      ],
      "text/plain": [
       "<IPython.core.display.Javascript object>"
      ]
     },
     "metadata": {},
     "output_type": "display_data"
    }
   ],
   "source": [
    "# Transform date to day of year for fitting\n",
    "df_total_cases.index = df_total_cases.index.dayofyear"
   ]
  },
  {
   "cell_type": "code",
   "execution_count": 10,
   "metadata": {},
   "outputs": [
    {
     "data": {
      "application/javascript": [
       "\n",
       "            setTimeout(function() {\n",
       "                var nbb_cell_id = 10;\n",
       "                var nbb_unformatted_code = \"def logistic_model(x, a, b, c):\\n    return c / (1 + np.exp(-(x - b) / a))\";\n",
       "                var nbb_formatted_code = \"def logistic_model(x, a, b, c):\\n    return c / (1 + np.exp(-(x - b) / a))\";\n",
       "                var nbb_cells = Jupyter.notebook.get_cells();\n",
       "                for (var i = 0; i < nbb_cells.length; ++i) {\n",
       "                    if (nbb_cells[i].input_prompt_number == nbb_cell_id) {\n",
       "                        if (nbb_cells[i].get_text() == nbb_unformatted_code) {\n",
       "                             nbb_cells[i].set_text(nbb_formatted_code);\n",
       "                        }\n",
       "                        break;\n",
       "                    }\n",
       "                }\n",
       "            }, 500);\n",
       "            "
      ],
      "text/plain": [
       "<IPython.core.display.Javascript object>"
      ]
     },
     "metadata": {},
     "output_type": "display_data"
    }
   ],
   "source": [
    "def logistic_model(x, a, b, c):\n",
    "    return c / (1 + np.exp(-(x - b) / a))"
   ]
  },
  {
   "cell_type": "code",
   "execution_count": 11,
   "metadata": {},
   "outputs": [
    {
     "data": {
      "application/javascript": [
       "\n",
       "            setTimeout(function() {\n",
       "                var nbb_cell_id = 11;\n",
       "                var nbb_unformatted_code = \"x = list(df_total_cases.index)\\ny = list(df_total_cases.total_currently_positive_cases)\\nfit = curve_fit(logistic_model, x, y, p0=[2, 100, 20000])\\nerrors = [np.sqrt(fit[1][i][i]) for i in [0, 1, 2]]\\nsol = int(\\n    fsolve(\\n        lambda x: logistic_model(x, fit[0][0], fit[0][1], fit[0][2]) - int(fit[0][2]),\\n        fit[0][1],\\n    )\\n)\";\n",
       "                var nbb_formatted_code = \"x = list(df_total_cases.index)\\ny = list(df_total_cases.total_currently_positive_cases)\\nfit = curve_fit(logistic_model, x, y, p0=[2, 100, 20000])\\nerrors = [np.sqrt(fit[1][i][i]) for i in [0, 1, 2]]\\nsol = int(\\n    fsolve(\\n        lambda x: logistic_model(x, fit[0][0], fit[0][1], fit[0][2]) - int(fit[0][2]),\\n        fit[0][1],\\n    )\\n)\";\n",
       "                var nbb_cells = Jupyter.notebook.get_cells();\n",
       "                for (var i = 0; i < nbb_cells.length; ++i) {\n",
       "                    if (nbb_cells[i].input_prompt_number == nbb_cell_id) {\n",
       "                        if (nbb_cells[i].get_text() == nbb_unformatted_code) {\n",
       "                             nbb_cells[i].set_text(nbb_formatted_code);\n",
       "                        }\n",
       "                        break;\n",
       "                    }\n",
       "                }\n",
       "            }, 500);\n",
       "            "
      ],
      "text/plain": [
       "<IPython.core.display.Javascript object>"
      ]
     },
     "metadata": {},
     "output_type": "display_data"
    }
   ],
   "source": [
    "x = list(df_total_cases.index)\n",
    "y = list(df_total_cases.total_currently_positive_cases)\n",
    "fit = curve_fit(logistic_model, x, y, p0=[2, 100, 20000])\n",
    "errors = [np.sqrt(fit[1][i][i]) for i in [0, 1, 2]]\n",
    "sol = int(\n",
    "    fsolve(\n",
    "        lambda x: logistic_model(x, fit[0][0], fit[0][1], fit[0][2]) - int(fit[0][2]),\n",
    "        fit[0][1],\n",
    "    )\n",
    ")"
   ]
  },
  {
   "cell_type": "code",
   "execution_count": 10,
   "metadata": {},
   "outputs": [
    {
     "name": "stdout",
     "output_type": "stream",
     "text": [
      "2020-04-25\n"
     ]
    },
    {
     "data": {
      "application/javascript": [
       "\n",
       "            setTimeout(function() {\n",
       "                var nbb_cell_id = 10;\n",
       "                var nbb_unformatted_code = \"# Estimated end date of the Infection\\nprint(date.fromordinal(date(2020, 1, 1).toordinal() + sol - 1))\";\n",
       "                var nbb_formatted_code = \"# Estimated end date of the Infection\\nprint(date.fromordinal(date(2020, 1, 1).toordinal() + sol - 1))\";\n",
       "                var nbb_cells = Jupyter.notebook.get_cells();\n",
       "                for (var i = 0; i < nbb_cells.length; ++i) {\n",
       "                    if (nbb_cells[i].input_prompt_number == nbb_cell_id) {\n",
       "                        if (nbb_cells[i].get_text() == nbb_unformatted_code) {\n",
       "                             nbb_cells[i].set_text(nbb_formatted_code);\n",
       "                        }\n",
       "                        break;\n",
       "                    }\n",
       "                }\n",
       "            }, 500);\n",
       "            "
      ],
      "text/plain": [
       "<IPython.core.display.Javascript object>"
      ]
     },
     "metadata": {},
     "output_type": "display_data"
    }
   ],
   "source": [
    "# Estimated end date of the Infection\n",
    "print(date.fromordinal(date(2020, 1, 1).toordinal() + sol - 1))"
   ]
  },
  {
   "cell_type": "markdown",
   "metadata": {},
   "source": [
    "### Plot"
   ]
  },
  {
   "cell_type": "code",
   "execution_count": 12,
   "metadata": {
    "scrolled": false
   },
   "outputs": [
    {
     "data": {
      "image/png": "[encoded data removed]",
      "text/plain": [
       "<Figure size 504x504 with 1 Axes>"
      ]
     },
     "metadata": {
      "needs_background": "light"
     },
     "output_type": "display_data"
    },
    {
     "data": {
      "application/javascript": [
       "\n",
       "            setTimeout(function() {\n",
       "                var nbb_cell_id = 12;\n",
       "                var nbb_unformatted_code = \"pred_x = list(range(max(x), sol))\\nplt.rcParams[\\\"figure.figsize\\\"] = [7, 7]\\n# Real data\\nplt.scatter(x, y, label=\\\"Observed data\\\", color=\\\"red\\\")\\n# Predicted logistic curve\\nplt.plot(\\n    x + pred_x,\\n    [logistic_model(i, fit[0][0], fit[0][1], fit[0][2]) for i in x + pred_x],\\n    label=\\\"Logistic model\\\",\\n)\\nplt.legend()\\nplt.xlabel(\\\"Days since 1 January 2020\\\")\\nplt.ylabel(\\\"Total number of infected people\\\")\\nplt.savefig(\\\"model.png\\\", dpi=600, bbox_inches=\\\"tight\\\")\\nplt.show()\";\n",
       "                var nbb_formatted_code = \"pred_x = list(range(max(x), sol))\\nplt.rcParams[\\\"figure.figsize\\\"] = [7, 7]\\n# Real data\\nplt.scatter(x, y, label=\\\"Observed data\\\", color=\\\"red\\\")\\n# Predicted logistic curve\\nplt.plot(\\n    x + pred_x,\\n    [logistic_model(i, fit[0][0], fit[0][1], fit[0][2]) for i in x + pred_x],\\n    label=\\\"Logistic model\\\",\\n)\\nplt.legend()\\nplt.xlabel(\\\"Days since 1 January 2020\\\")\\nplt.ylabel(\\\"Total number of infected people\\\")\\nplt.savefig(\\\"model.png\\\", dpi=600, bbox_inches=\\\"tight\\\")\\nplt.show()\";\n",
       "                var nbb_cells = Jupyter.notebook.get_cells();\n",
       "                for (var i = 0; i < nbb_cells.length; ++i) {\n",
       "                    if (nbb_cells[i].input_prompt_number == nbb_cell_id) {\n",
       "                        if (nbb_cells[i].get_text() == nbb_unformatted_code) {\n",
       "                             nbb_cells[i].set_text(nbb_formatted_code);\n",
       "                        }\n",
       "                        break;\n",
       "                    }\n",
       "                }\n",
       "            }, 500);\n",
       "            "
      ],
      "text/plain": [
       "<IPython.core.display.Javascript object>"
      ]
     },
     "metadata": {},
     "output_type": "display_data"
    }
   ],
   "source": [
    "pred_x = list(range(max(x), sol))\n",
    "plt.rcParams[\"figure.figsize\"] = [7, 7]\n",
    "# Real data\n",
    "plt.scatter(x, y, label=\"Observed data\", color=\"red\")\n",
    "# Predicted logistic curve\n",
    "plt.plot(\n",
    "    x + pred_x,\n",
    "    [logistic_model(i, fit[0][0], fit[0][1], fit[0][2]) for i in x + pred_x],\n",
    "    label=\"Logistic model\",\n",
    ")\n",
    "plt.legend()\n",
    "plt.xlabel(\"Days since 1 January 2020\")\n",
    "plt.ylabel(\"Total number of infected people\")\n",
    "plt.savefig(\"model.png\", dpi=600, bbox_inches=\"tight\")\n",
    "plt.show()"
   ]
  }
 ],
 "metadata": {
  "kernelspec": {
   "display_name": "Python 3",
   "language": "python",
   "name": "python3"
  },
  "language_info": {
   "codemirror_mode": {
    "name": "ipython",
    "version": 3
   },
   "file_extension": ".py",
   "mimetype": "text/x-python",
   "name": "python",
   "nbconvert_exporter": "python",
   "pygments_lexer": "ipython3",
   "version": "3.8.1"
  }
 },
 "nbformat": 4,
 "nbformat_minor": 4
}
